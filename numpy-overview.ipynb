{
 "cells": [
  {
   "cell_type": "code",
   "execution_count": 2,
   "id": "77beae8c",
   "metadata": {},
   "outputs": [],
   "source": [
    "import numpy as np"
   ]
  },
  {
   "cell_type": "markdown",
   "id": "e9879e08-66db-4f2e-bbfa-18b742cb875e",
   "metadata": {},
   "source": [
    "# 10 zeros"
   ]
  },
  {
   "cell_type": "code",
   "execution_count": 3,
   "id": "ba56e2e2",
   "metadata": {},
   "outputs": [
    {
     "data": {
      "text/plain": [
       "array([0., 0., 0., 0., 0., 0., 0., 0., 0., 0.])"
      ]
     },
     "execution_count": 3,
     "metadata": {},
     "output_type": "execute_result"
    }
   ],
   "source": [
    "np.zeros(10)"
   ]
  },
  {
   "cell_type": "markdown",
   "id": "ccf21ef7-b5d0-4e59-8419-a1cea4b26243",
   "metadata": {},
   "source": [
    "# 10 uns"
   ]
  },
  {
   "cell_type": "code",
   "execution_count": 4,
   "id": "708ded43-1a56-4bfe-8ad3-e10fa6e12276",
   "metadata": {},
   "outputs": [
    {
     "data": {
      "text/plain": [
       "array([1., 1., 1., 1., 1., 1., 1., 1., 1., 1.])"
      ]
     },
     "execution_count": 4,
     "metadata": {},
     "output_type": "execute_result"
    }
   ],
   "source": [
    "np.ones(10)"
   ]
  },
  {
   "cell_type": "markdown",
   "id": "5def1b27-b1bc-425e-8af5-4762a4c775c9",
   "metadata": {},
   "source": [
    "# 10 cincos"
   ]
  },
  {
   "cell_type": "code",
   "execution_count": 5,
   "id": "e8272047-852e-434d-b792-06aa2ed3493b",
   "metadata": {},
   "outputs": [
    {
     "data": {
      "text/plain": [
       "array([5., 5., 5., 5., 5., 5., 5., 5., 5., 5.])"
      ]
     },
     "execution_count": 5,
     "metadata": {},
     "output_type": "execute_result"
    }
   ],
   "source": [
    "np.ones(10)*5"
   ]
  },
  {
   "cell_type": "markdown",
   "id": "db88c2d3-aaf7-4b2d-b390-6764f22b2dc7",
   "metadata": {},
   "source": [
    "# 10 ate 50"
   ]
  },
  {
   "cell_type": "code",
   "execution_count": 6,
   "id": "49d904d8-3d2a-42ba-be22-303538e90b42",
   "metadata": {},
   "outputs": [
    {
     "data": {
      "text/plain": [
       "array([10, 11, 12, 13, 14, 15, 16, 17, 18, 19, 20, 21, 22, 23, 24, 25, 26,\n",
       "       27, 28, 29, 30, 31, 32, 33, 34, 35, 36, 37, 38, 39, 40, 41, 42, 43,\n",
       "       44, 45, 46, 47, 48, 49, 50])"
      ]
     },
     "execution_count": 6,
     "metadata": {},
     "output_type": "execute_result"
    }
   ],
   "source": [
    "np.arange(10, 51, 1)"
   ]
  },
  {
   "cell_type": "markdown",
   "id": "17cc0eef-76e6-4f66-9d86-8410797c03dc",
   "metadata": {},
   "source": [
    "# pares de 10 ate 50"
   ]
  },
  {
   "cell_type": "code",
   "execution_count": 7,
   "id": "ef1b1dbd-1741-41d2-84c1-5a8254de1c35",
   "metadata": {},
   "outputs": [
    {
     "data": {
      "text/plain": [
       "array([10, 12, 14, 16, 18, 20, 22, 24, 26, 28, 30, 32, 34, 36, 38, 40, 42,\n",
       "       44, 46, 48, 50])"
      ]
     },
     "execution_count": 7,
     "metadata": {},
     "output_type": "execute_result"
    }
   ],
   "source": [
    "np.arange(10, 51, 2)"
   ]
  },
  {
   "cell_type": "markdown",
   "id": "9971f612-3cd0-4500-b7ff-cc347c0e3cf3",
   "metadata": {},
   "source": [
    "# 3x3 0 ate 8"
   ]
  },
  {
   "cell_type": "code",
   "execution_count": 8,
   "id": "5486ad65-c9df-4190-a0ed-1407d0603fe1",
   "metadata": {},
   "outputs": [
    {
     "data": {
      "text/plain": [
       "array([[0, 1, 2],\n",
       "       [3, 4, 5],\n",
       "       [6, 7, 8]])"
      ]
     },
     "execution_count": 8,
     "metadata": {},
     "output_type": "execute_result"
    }
   ],
   "source": [
    "np.arange(0, 9, 1).reshape((3,3))"
   ]
  },
  {
   "cell_type": "markdown",
   "id": "33f2fca3-97f1-4ae9-a955-ce5d90bbf95e",
   "metadata": {},
   "source": [
    "# 3x3 Identidade"
   ]
  },
  {
   "cell_type": "code",
   "execution_count": 9,
   "id": "81e2177a-b15c-4709-997d-e46b3a8e6511",
   "metadata": {},
   "outputs": [
    {
     "data": {
      "text/plain": [
       "array([[1., 0., 0.],\n",
       "       [0., 1., 0.],\n",
       "       [0., 0., 1.]])"
      ]
     },
     "execution_count": 9,
     "metadata": {},
     "output_type": "execute_result"
    }
   ],
   "source": [
    "np.eye(3)"
   ]
  },
  {
   "cell_type": "markdown",
   "id": "ce5ed89d-ed15-4409-9afb-18c11fbd999b",
   "metadata": {},
   "source": [
    "# Rand"
   ]
  },
  {
   "cell_type": "code",
   "execution_count": 36,
   "id": "1d14d2f9-a147-488c-8ede-3cb1b3284545",
   "metadata": {},
   "outputs": [
    {
     "data": {
      "text/plain": [
       "array([0.89845686])"
      ]
     },
     "execution_count": 36,
     "metadata": {},
     "output_type": "execute_result"
    }
   ],
   "source": [
    "np.random.rand(1)"
   ]
  },
  {
   "cell_type": "markdown",
   "id": "d1caf848-7248-4d86-a343-1d2c0c59835a",
   "metadata": {},
   "source": [
    "# Rand distribuição normal"
   ]
  },
  {
   "cell_type": "code",
   "execution_count": 39,
   "id": "2def025e-212f-49b1-949b-6ffd4d5ce008",
   "metadata": {},
   "outputs": [
    {
     "data": {
      "text/plain": [
       "array([[-1.7904601 ,  0.18307503, -1.24352025, -0.50735105, -0.1206645 ],\n",
       "       [-0.01258339, -0.83198422, -0.68622162,  0.78211628,  1.06431307],\n",
       "       [-0.77825455, -0.3906471 ,  0.09026003, -0.03454831, -0.00848505],\n",
       "       [ 0.03490716,  0.23200724, -0.68560812,  0.63887803,  1.45581593],\n",
       "       [ 1.2851953 , -0.60983444,  1.60760176,  0.38252624,  1.02434631]])"
      ]
     },
     "execution_count": 39,
     "metadata": {},
     "output_type": "execute_result"
    }
   ],
   "source": [
    "np.random.randn(5,5)"
   ]
  },
  {
   "cell_type": "markdown",
   "id": "cd2f57f2-924f-4561-9732-7fa9987c4079",
   "metadata": {},
   "source": [
    "# 0 -> 1 de 0.01 "
   ]
  },
  {
   "cell_type": "code",
   "execution_count": 12,
   "id": "77719cb3-e43a-4948-916d-7af6ebc9df57",
   "metadata": {},
   "outputs": [
    {
     "data": {
      "text/plain": [
       "array([[0.01, 0.02, 0.03, 0.04, 0.05, 0.06, 0.07, 0.08, 0.09, 0.1 ],\n",
       "       [0.11, 0.12, 0.13, 0.14, 0.15, 0.16, 0.17, 0.18, 0.19, 0.2 ],\n",
       "       [0.21, 0.22, 0.23, 0.24, 0.25, 0.26, 0.27, 0.28, 0.29, 0.3 ],\n",
       "       [0.31, 0.32, 0.33, 0.34, 0.35, 0.36, 0.37, 0.38, 0.39, 0.4 ],\n",
       "       [0.41, 0.42, 0.43, 0.44, 0.45, 0.46, 0.47, 0.48, 0.49, 0.5 ],\n",
       "       [0.51, 0.52, 0.53, 0.54, 0.55, 0.56, 0.57, 0.58, 0.59, 0.6 ],\n",
       "       [0.61, 0.62, 0.63, 0.64, 0.65, 0.66, 0.67, 0.68, 0.69, 0.7 ],\n",
       "       [0.71, 0.72, 0.73, 0.74, 0.75, 0.76, 0.77, 0.78, 0.79, 0.8 ],\n",
       "       [0.81, 0.82, 0.83, 0.84, 0.85, 0.86, 0.87, 0.88, 0.89, 0.9 ],\n",
       "       [0.91, 0.92, 0.93, 0.94, 0.95, 0.96, 0.97, 0.98, 0.99, 1.  ]])"
      ]
     },
     "execution_count": 12,
     "metadata": {},
     "output_type": "execute_result"
    }
   ],
   "source": [
    "np.linspace(0.01, 1, 100).reshape((10, 10))"
   ]
  },
  {
   "cell_type": "markdown",
   "id": "3b650c47-75c4-4a38-a017-e6562e2cc94c",
   "metadata": {},
   "source": [
    "# 0->1 20 numeros"
   ]
  },
  {
   "cell_type": "code",
   "execution_count": 13,
   "id": "a35696b1-358e-43eb-9b1c-0753cb9493be",
   "metadata": {},
   "outputs": [
    {
     "data": {
      "text/plain": [
       "array([0.        , 0.05263158, 0.10526316, 0.15789474, 0.21052632,\n",
       "       0.26315789, 0.31578947, 0.36842105, 0.42105263, 0.47368421,\n",
       "       0.52631579, 0.57894737, 0.63157895, 0.68421053, 0.73684211,\n",
       "       0.78947368, 0.84210526, 0.89473684, 0.94736842, 1.        ])"
      ]
     },
     "execution_count": 13,
     "metadata": {},
     "output_type": "execute_result"
    }
   ],
   "source": [
    "np.linspace(0, 1, 20)"
   ]
  },
  {
   "cell_type": "markdown",
   "id": "8b15046a-674c-4c0c-b08b-d40c3bf3d40d",
   "metadata": {},
   "source": [
    "# Outros exemplos"
   ]
  },
  {
   "cell_type": "code",
   "execution_count": 26,
   "id": "032ad764-cc87-4246-a6f8-3394e9ac56f1",
   "metadata": {},
   "outputs": [
    {
     "data": {
      "text/plain": [
       "array([[ 1,  2,  3,  4,  5],\n",
       "       [ 6,  7,  8,  9, 10],\n",
       "       [11, 12, 13, 14, 15],\n",
       "       [16, 17, 18, 19, 20],\n",
       "       [21, 22, 23, 24, 25]])"
      ]
     },
     "execution_count": 26,
     "metadata": {},
     "output_type": "execute_result"
    }
   ],
   "source": [
    "mat = np.arange(1,26).reshape(5,5)\n",
    "mat"
   ]
  },
  {
   "cell_type": "code",
   "execution_count": 25,
   "id": "db7ae985-5b13-4807-896b-5011b252dc59",
   "metadata": {},
   "outputs": [
    {
     "data": {
      "text/plain": [
       "array([[12, 13, 14, 15],\n",
       "       [17, 18, 19, 20],\n",
       "       [22, 23, 24, 25]])"
      ]
     },
     "execution_count": 25,
     "metadata": {},
     "output_type": "execute_result"
    }
   ],
   "source": [
    "mat[2:, 1:]"
   ]
  },
  {
   "cell_type": "code",
   "execution_count": 24,
   "id": "36f657bb-b111-4ee6-8a8f-ec27d7ff21bc",
   "metadata": {},
   "outputs": [
    {
     "data": {
      "text/plain": [
       "20"
      ]
     },
     "execution_count": 24,
     "metadata": {},
     "output_type": "execute_result"
    }
   ],
   "source": [
    "mat[3,4]"
   ]
  },
  {
   "cell_type": "code",
   "execution_count": 37,
   "id": "a4b3f4ca-4093-42e4-9d39-d6dd14cff8ca",
   "metadata": {},
   "outputs": [
    {
     "data": {
      "text/plain": [
       "array([[ 2],\n",
       "       [ 7],\n",
       "       [12]])"
      ]
     },
     "execution_count": 37,
     "metadata": {},
     "output_type": "execute_result"
    }
   ],
   "source": [
    "mat[:3, 1].reshape(3, -1)"
   ]
  },
  {
   "cell_type": "code",
   "execution_count": 39,
   "id": "0af67a87-0c27-4e92-b286-5ab4f55ddbaa",
   "metadata": {},
   "outputs": [
    {
     "data": {
      "text/plain": [
       "array([21, 22, 23, 24, 25])"
      ]
     },
     "execution_count": 39,
     "metadata": {},
     "output_type": "execute_result"
    }
   ],
   "source": [
    "mat[mat>20]"
   ]
  },
  {
   "cell_type": "code",
   "execution_count": 40,
   "id": "7c0b6c83-126e-4b54-a539-7f3ec5caa9d4",
   "metadata": {},
   "outputs": [
    {
     "data": {
      "text/plain": [
       "array([[16, 17, 18, 19, 20],\n",
       "       [21, 22, 23, 24, 25]])"
      ]
     },
     "execution_count": 40,
     "metadata": {},
     "output_type": "execute_result"
    }
   ],
   "source": [
    "mat[mat>15].reshape(2, -1)"
   ]
  },
  {
   "cell_type": "markdown",
   "id": "7a28a7c6-39c0-4fe1-9985-1794d089f151",
   "metadata": {},
   "source": [
    "# Operações"
   ]
  },
  {
   "cell_type": "code",
   "execution_count": 41,
   "id": "f52669b5-26e8-41e4-bb89-45cf75548d88",
   "metadata": {},
   "outputs": [
    {
     "data": {
      "text/plain": [
       "325"
      ]
     },
     "execution_count": 41,
     "metadata": {},
     "output_type": "execute_result"
    }
   ],
   "source": [
    "mat.sum()"
   ]
  },
  {
   "cell_type": "code",
   "execution_count": 42,
   "id": "f098d2ef-46d8-4f88-bc14-a8571d833248",
   "metadata": {},
   "outputs": [
    {
     "data": {
      "text/plain": [
       "7.211102550927978"
      ]
     },
     "execution_count": 42,
     "metadata": {},
     "output_type": "execute_result"
    }
   ],
   "source": [
    "mat.std()"
   ]
  },
  {
   "cell_type": "code",
   "execution_count": 43,
   "id": "7e861930-fe7d-4418-bfdd-a52333d8c89e",
   "metadata": {},
   "outputs": [
    {
     "data": {
      "text/plain": [
       "array([55, 60, 65, 70, 75])"
      ]
     },
     "execution_count": 43,
     "metadata": {},
     "output_type": "execute_result"
    }
   ],
   "source": [
    "mat.sum(axis=0)"
   ]
  }
 ],
 "metadata": {
  "kernelspec": {
   "display_name": "Python 3 (ipykernel)",
   "language": "python",
   "name": "python3"
  },
  "language_info": {
   "codemirror_mode": {
    "name": "ipython",
    "version": 3
   },
   "file_extension": ".py",
   "mimetype": "text/x-python",
   "name": "python",
   "nbconvert_exporter": "python",
   "pygments_lexer": "ipython3",
   "version": "3.9.7"
  }
 },
 "nbformat": 4,
 "nbformat_minor": 5
}
